{
 "cells": [
  {
   "cell_type": "code",
   "execution_count": 3,
   "metadata": {},
   "outputs": [],
   "source": [
    "import random\n",
    "import numpy as np\n",
    "import pandas as pd\n",
    "import matplotlib.pyplot as plt\n",
    "from scipy.spatial.distance import cdist"
   ]
  },
  {
   "cell_type": "code",
   "execution_count": 4,
   "metadata": {},
   "outputs": [],
   "source": [
    "class DataLoader():\n",
    "    def __init__(self, path, sep=\",\", header=None, cols=()):\n",
    "        if(len(cols) == 0):\n",
    "            self._df = pd.read_csv(path, sep=sep, header=header)\n",
    "        else:\n",
    "            temp_df = pd.read_csv(path, sep=sep, header=header)\n",
    "            from_col, to_col = cols\n",
    "            self._df = temp_df.iloc[:, from_col:to_col]\n",
    "    @classmethod\n",
    "    def normal_scaler(cls, x):\n",
    "        eps = 1e-5\n",
    "        mean = np.mean(x, axis=0)\n",
    "        std = np.std(x, axis=0)\n",
    "#         print(\"mean shape: {0}, std shape: {1}\".format(mean.shape, std.shape))\n",
    "#         print(\"mean: {0}, std: {1}\".format(mean, std))\n",
    "        x_scaled = (x-mean)/(std+eps)\n",
    "        return x_scaled \n",
    "    def to_numpy(self, scale=True):\n",
    "        arr = self._df.to_numpy()\n",
    "        print(\"Shape: {0}\".format(arr.shape))\n",
    "        if(scale):\n",
    "            return DataLoader.normal_scaler(arr)\n",
    "        return arr\n",
    "    def to_df(self):\n",
    "        return self._df\n",
    "    def rand_sample(self, size=200, scale=True):\n",
    "        arr = self.to_numpy(scale)\n",
    "        sample_indices = np.random.choice(arr.shape[0], size, replace=False)\n",
    "        return arr[sample_indices]"
   ]
  },
  {
   "cell_type": "markdown",
   "metadata": {},
   "source": [
    "## Lloyd's K-Means Algorithm\n"
   ]
  },
  {
   "cell_type": "code",
   "execution_count": 5,
   "metadata": {},
   "outputs": [],
   "source": [
    "def k_means(X, k, centroids=None, itr_thres=100):\n",
    "    print(\"K-means with k: {0}\".format(k))\n",
    "#     print(\"centroids:\", centroids, centroids is None)\n",
    "    def error(X, C):\n",
    "        pair_dists = cdist(X, centroids)\n",
    "        dist_from_center = np.min(pair_dists[:5], axis=1)\n",
    "        se = np.linalg.norm(dist_from_center)**2\n",
    "        return se\n",
    "    def check_convergence(errors, thres=1e-5):\n",
    "        if len(errors) < 2:\n",
    "            return False\n",
    "        else:\n",
    "            if(abs(errors[-1]-errors[-2]) < thres):\n",
    "                return True\n",
    "        return False\n",
    "    \n",
    "    # k- random choices for centroids\n",
    "    if(centroids is None):\n",
    "        centroids = X[np.random.choice(X.shape[0], k, replace=False)].reshape(k, -1)\n",
    "    errors = []\n",
    "    count = 0\n",
    "    while not check_convergence(errors):\n",
    "        # Compute new centroids\n",
    "        pair_dists = cdist(X, centroids)\n",
    "        centroids_new = []\n",
    "        min_value = np.argmin(pair_dists, axis=1)\n",
    "        for j in range(k):\n",
    "            Pj = X[min_value == j]\n",
    "            centroids_new.append(np.mean(Pj, axis=0))\n",
    "        centroids = np.array(centroids_new)\n",
    "        errors.append(error(X, centroids))\n",
    "        count += 1\n",
    "        if(count > itr_thres):\n",
    "            break\n",
    "    print(\"# Iterations: {0}\".format(count))\n",
    "    return centroids, errors"
   ]
  },
  {
   "cell_type": "markdown",
   "metadata": {},
   "source": [
    "### Implementing K-mean ++\n",
    "#### K-means++ Algorithm\n",
    "1. Randomly select the first centroid from the data points.\n",
    "2. For each data point x not chosen yet, compute $D(x)$, the distance between x and the nearest center that has already been chosen.\n",
    "3. Choose one new data point at random as a new center, using a weighted probability distribution where a point x is chosen with probability proportional to $D(x)^2$.\n",
    "4. Repeat Steps 2 and 3 until k centers have been chosen."
   ]
  },
  {
   "cell_type": "code",
   "execution_count": 6,
   "metadata": {},
   "outputs": [],
   "source": [
    "def k_means_pp(X, k):\n",
    "    print(\"X: {0}, k: {1}\".format(X.shape, k))\n",
    "    X_org = np.copy(X)\n",
    "    # Step 1\n",
    "    centroids = []\n",
    "    cent_index = np.random.choice(X.shape[0], 1)\n",
    "    centroids.append(X[cent_index].reshape(1, -1))\n",
    "    X = np.delete(X, cent_index, axis=0)\n",
    "    \n",
    "    if(k == 1):\n",
    "        return centroids\n",
    "    \n",
    "    # Step 4\n",
    "    for i in range(k-1):\n",
    "        # Step 2\n",
    "        cent_np = np.array(centroids).reshape(-1, X.shape[1])\n",
    "        pair_dists = cdist(X, cent_np)\n",
    "        nearest_center_dist = np.min(pair_dists, axis=1)\n",
    "        \n",
    "        # Step 3\n",
    "        new_cent_index = np.argmax(nearest_center_dist)\n",
    "        centroids.append(X[new_cent_index].reshape(1, -1))\n",
    "        X = np.delete(X, new_cent_index, axis=0)\n",
    "     \n",
    "    centroids = np.array(centroids).reshape(-1, X.shape[1])\n",
    "    # Run k-means with the centroids\n",
    "#     return centroids\n",
    "    return k_means(X_org, k, centroids)"
   ]
  },
  {
   "cell_type": "markdown",
   "metadata": {},
   "source": [
    "## NK-Means\n",
    "#### To be done\n",
    "* Initialize $Opt$ value in $nk\\_means$ algorithm\n",
    "* Clean and import POWER dataset"
   ]
  },
  {
   "cell_type": "code",
   "execution_count": 7,
   "metadata": {},
   "outputs": [],
   "source": [
    "def nk_means(X, y, k, z, k_means_alg):\n",
    "    pair_dists = cdist(X, X)\n",
    "    # TO BE DONE: Determine the value of optimum cost value (opt)\n",
    "    opt = 2**(X.shape[0]*(pair_dists.max()))\n",
    "    r = 2*(opt/z)**0.5\n",
    "    \n",
    "    ball_counts = np.sum((pair_dists < r).astype(np.int32), axis=0)\n",
    "    heavy = (ball_counts > 2*z)\n",
    "    X_cleaned = X[heavy]\n",
    "    y_cleaned = y[heavy]\n",
    "    \n",
    "    # calculating precision and recall\n",
    "    total_outliers = len(y[y==1])\n",
    "    total_num_pts_discarded = len(y)-len(y_cleaned)\n",
    "    remaining_outliers = len(y_cleaned[y_cleaned==1])\n",
    "    num_outliers_detected = total_outliers - remaining_outliers\n",
    "    \n",
    "    precision = num_outliers_detected/total_num_pts_discarded\n",
    "    recall = num_outliers_detected/total_outliers\n",
    "    \n",
    "    return k_means_alg(X_cleaned, k), precision, recall     "
   ]
  },
  {
   "cell_type": "markdown",
   "metadata": {},
   "source": [
    "## Coreset Construction"
   ]
  },
  {
   "cell_type": "markdown",
   "metadata": {},
   "source": [
    "### Sample Coreset Algorithm\n",
    "\n",
    "1. $p = max(\\frac{36}{z}\\log(\\frac{4nk^2}{z}), 36\\frac{k}{z}\\log(2k^3))$\n",
    "2. *if* (p > 1) **K-means++**$(X, 32(k+z))$\n",
    "3. *else*, **K-means++**$(S, 32(k+2.5pz))$\n",
    "\n",
    "$S$ be a sample drawn from $X$, where each $x ∈ X$ is included in $S$ independently with probability $p$"
   ]
  },
  {
   "cell_type": "code",
   "execution_count": 8,
   "metadata": {},
   "outputs": [],
   "source": [
    "def sample_coreset(X, k, z):\n",
    "    n = X.shape[0]\n",
    "    p = max((36/z)*np.log((4*n/z)*k**2), (36*k/z)*np.log(2*(k**3)))\n",
    "    print(\"Sample Coreset, p: {0}, X: {1}, k: {2}, z: {3}\".format(p, X.shape, k, z))\n",
    "    if(p > 1):\n",
    "        return k_means_pp(X, int(32*(k+z)))\n",
    "    else:\n",
    "        proba = np.random.rand(X.shape[0])\n",
    "        S = X[proba < p]\n",
    "        return k_means_pp(S, int(32*(k+2.5*p*z)))"
   ]
  },
  {
   "cell_type": "markdown",
   "metadata": {},
   "source": [
    "### K-means--"
   ]
  },
  {
   "cell_type": "code",
   "execution_count": 9,
   "metadata": {},
   "outputs": [],
   "source": [
    "def k_means_mm(X, y, k, z, itr_thres=100):\n",
    "    print(\"K-means-- with (k, z, itr_thres): ({0}, {1}, {2})\".format(k, z, itr_thres))\n",
    "    def error(X, C):\n",
    "        pair_dists = cdist(X, centroids)\n",
    "        dist_from_center = np.min(pair_dists[:5], axis=1)\n",
    "        se = np.linalg.norm(dist_from_center)**2\n",
    "        \n",
    "        return se\n",
    "    def check_convergence(errors, thres=1e-5):\n",
    "        if len(errors) < 2:\n",
    "            return False\n",
    "        else:\n",
    "            if(abs(errors[-1]-errors[-2]) < thres):\n",
    "                return True\n",
    "        return False\n",
    "    # Number of ground truth outliers\n",
    "    total_outliers = len(y[y==1])\n",
    "    # k- random choices for centroids\n",
    "    centroids = X[np.random.choice(X.shape[0], k, replace=False)].reshape(k, -1)\n",
    "    errors = []\n",
    "    count = 0\n",
    "    for i in range(20):\n",
    "        # Compute d(x | Ci−1), for all x ∈ X\n",
    "        pair_dists = cdist(X, centroids)\n",
    "        nearest_center_dist = np.min(pair_dists, axis=1)\n",
    "\n",
    "        # get the indices of sorted distance values\n",
    "        sorted_indices = np.argsort(nearest_center_dist)\n",
    "        # store the largest 'l' values in set 'L'\n",
    "        L = X[sorted_indices[-z:]]\n",
    "        \n",
    "        # remove the set 'L' from 'X'\n",
    "        X = np.delete(X, sorted_indices[-z:], axis=0)\n",
    "        y = np.delete(y, sorted_indices[-z:], axis=0)\n",
    "        \n",
    "        # Compute new centroids\n",
    "        pair_dists = cdist(X, centroids)\n",
    "        centroids_new = []\n",
    "        for j in range(k):\n",
    "            min_value = np.argmin(pair_dists, axis=1)\n",
    "            if(len(min_value) == 0):\n",
    "#                 print(\"\\tmin_value: {0}, breaking...\".format(min_value))\n",
    "                break\n",
    "            Pj = X[min_value == j]\n",
    "#             print(\"Itr: {0}, centroids: {1}\".format(count, np.mean(Pj, axis=0)))\n",
    "            centroids_new.append(np.mean(Pj, axis=0))\n",
    "        if(len(centroids_new) == 0):\n",
    "            break\n",
    "        centroids = np.array(centroids_new)\n",
    "        errors.append(error(X, centroids))\n",
    "        count += 1\n",
    "        if(count > itr_thres):\n",
    "            break\n",
    "    print(\"# Iterations: {0}\".format(count))\n",
    "    \n",
    "    # calcluating precision and recall of outliers\n",
    "    total_num_pts_discarded = count*z\n",
    "    remaining_outliers = len(y[y==1])\n",
    "    num_outliers_detected = total_outliers - remaining_outliers\n",
    "    \n",
    "    precision = num_outliers_detected/total_num_pts_discarded\n",
    "    recall = num_outliers_detected/total_outliers\n",
    "    \n",
    "    return {'centroids': centroids, 'errors': errors, 'recall': recall, 'precision': precision}"
   ]
  },
  {
   "cell_type": "markdown",
   "metadata": {},
   "source": [
    "## Gaussian Mixture"
   ]
  },
  {
   "cell_type": "code",
   "execution_count": 21,
   "metadata": {},
   "outputs": [],
   "source": [
    "from scipy.stats import multivariate_normal\n",
    "from sklearn.datasets import make_spd_matrix\n",
    "def gaussian_mixture(X, k):\n",
    "    eps = 1e-5\n",
    "    weights = np.ones((k)) / k\n",
    "    means = np.random.choice(X.flatten(), (k, X.shape[1]))\n",
    "    # create and initialize a Positive semidefinite convariance matrix \n",
    "    cov = []\n",
    "    for i in range(k):\n",
    "        cov.append(make_spd_matrix(X.shape[1]))\n",
    "    cov = np.array(cov)\n",
    "    print(cov.shape)\n",
    "    step=1\n",
    "    while step<15:\n",
    "        likelihood = []\n",
    "        # Expectation step\n",
    "        for j in range(k):\n",
    "            likelihood.append(multivariate_normal.pdf(x=X, mean=means[j], cov=cov[j]))\n",
    "        likelihood = np.array(likelihood)\n",
    "        assert likelihood.shape == (k, len(X))\n",
    "\n",
    "        b = []\n",
    "        # Maximization step \n",
    "        for j in range(k):\n",
    "            # use the current values for the parameters to evaluate the posterior\n",
    "            # probabilities of the data to have been generanted by each gaussian\n",
    "            b.append((likelihood[j] * weights[j]) / (np.sum([likelihood[i] * weights[i] for i in range(k)], axis=0)+eps))\n",
    "\n",
    "            # updage mean and variance\n",
    "            means[j] = np.sum(b[j].reshape(len(X),1) * X, axis=0) / (np.sum(b[j]+eps))\n",
    "            cov[j] = np.dot((b[j].reshape(len(X),1) * (X - means[j])).T, (X - means[j])) / (np.sum(b[j])+eps)\n",
    "\n",
    "            # update the weights\n",
    "            weights[j] = np.mean(b[j])\n",
    "    return means, cov, b"
   ]
  },
  {
   "cell_type": "code",
   "execution_count": 24,
   "metadata": {},
   "outputs": [],
   "source": [
    "from sklearn.mixture import GaussianMixture\n",
    "\n",
    "gm = GaussianMixture(10)\n",
    "labels = gm.fit_predict(X_skin)"
   ]
  },
  {
   "cell_type": "markdown",
   "metadata": {},
   "source": [
    "# Experiments\n",
    "## Prepare Datasets"
   ]
  },
  {
   "cell_type": "code",
   "execution_count": 12,
   "metadata": {},
   "outputs": [],
   "source": [
    "def add_outliers(X, z, delta = 5):\n",
    "    outliers = np.random.uniform(low=-delta, high=delta, size=(z, X.shape[1]))\n",
    "    X = np.concatenate((X, outliers), axis=0)\n",
    "    y = np.zeros((X.shape[0], 1))\n",
    "    y[-z:] = 1\n",
    "    return X, y"
   ]
  },
  {
   "cell_type": "code",
   "execution_count": 13,
   "metadata": {},
   "outputs": [
    {
     "name": "stdout",
     "output_type": "stream",
     "text": [
      "Shape: (245057, 3)\n"
     ]
    }
   ],
   "source": [
    "# SKIN-delta\n",
    "\n",
    "skin_dl = DataLoader(\"datasets/skin/Skin_NonSkin.txt\", sep=\"\\t\", cols=(0, 3))\n",
    "X_skin = skin_dl.to_numpy()\n",
    "k_skin = 10\n",
    "z_skin = int(0.01*X_skin.shape[0])\n",
    "skin_5_arr, y_skin_5 = add_outliers(X_skin, z_skin)\n",
    "skin_10_arr, y_skin_10 = add_outliers(X_skin, z_skin, delta=10)\n"
   ]
  },
  {
   "cell_type": "code",
   "execution_count": 14,
   "metadata": {},
   "outputs": [
    {
     "data": {
      "text/plain": [
       "((247507, 1), (247507, 3), (245057, 3))"
      ]
     },
     "execution_count": 14,
     "metadata": {},
     "output_type": "execute_result"
    }
   ],
   "source": [
    "y_skin_5.shape, skin_5_arr.shape, X_skin.shape"
   ]
  },
  {
   "cell_type": "code",
   "execution_count": 15,
   "metadata": {},
   "outputs": [
    {
     "name": "stdout",
     "output_type": "stream",
     "text": [
      "Shape: (5000000, 18)\n"
     ]
    }
   ],
   "source": [
    "susy_dl = DataLoader(\"datasets/susy/SUSY.csv\", cols=(1, 19))\n",
    "X_susy = susy_dl.to_numpy()\n",
    "z_susy = int(0.01*X_susy.shape[0])\n",
    "k_susy = 10\n",
    "susy_5_arr, y_susy_5 = add_outliers(X_susy, z_susy)\n",
    "susy_10_arr, y_susy_10 = add_outliers(X_susy, z_susy, delta=10)"
   ]
  },
  {
   "cell_type": "code",
   "execution_count": 16,
   "metadata": {},
   "outputs": [
    {
     "name": "stdout",
     "output_type": "stream",
     "text": [
      "Shape: (4898431, 34)\n"
     ]
    }
   ],
   "source": [
    "kdd_dl = DataLoader(\"datasets/kdd/kddcup.data\", cols=(7, 41))\n",
    "kdd_arr = kdd_dl.to_numpy()\n",
    "k_kdd = 3\n",
    "z_kdd = 45747\n",
    "\n",
    "kdd_df = pd.read_csv(\"datasets/kdd/kddcup.data\", header=None)\n",
    "y_kdd = kdd_df[41].apply(lambda x: x in ('smurf.', 'neptune.', 'normal.')).values.astype(int)"
   ]
  },
  {
   "cell_type": "code",
   "execution_count": 17,
   "metadata": {},
   "outputs": [
    {
     "name": "stderr",
     "output_type": "stream",
     "text": [
      "/Users/shashank/anaconda3/lib/python3.7/site-packages/IPython/core/interactiveshell.py:3146: DtypeWarning: Columns (2,3,4,5,6,7) have mixed types.Specify dtype option on import or set low_memory=False.\n",
      "  interactivity=interactivity, compiler=compiler, result=result)\n"
     ]
    }
   ],
   "source": [
    "# POWER\n",
    "\n",
    "power_df = pd.read_csv(\"datasets/power/household_power_consumption.txt\", sep=\";\")\n",
    "power_df2 = pd.DataFrame()\n",
    "for col in power_df.iloc[:, 2:].columns.tolist():\n",
    "    power_df2[col] = pd.to_numeric(power_df[col], errors='coerce').dropna()\n",
    "\n",
    "X_power = DataLoader.normal_scaler(power_df2.to_numpy())\n",
    "k_power = 10\n",
    "z_power = int(0.01*X_power.shape[0])\n",
    "power_5_arr, y_power_5 = add_outliers(X_power, z_power)\n",
    "power_10_arr, y_power_10 = add_outliers(X_power, z_power, delta=10)"
   ]
  },
  {
   "cell_type": "code",
   "execution_count": 40,
   "metadata": {},
   "outputs": [],
   "source": [
    "def plot_errors(res):\n",
    "    print(\"Recall:\\t\\t{0}, \\nPrecision:\\t{1},\\nMin Objective:\\t{2}\".\n",
    "          format(res['recall'], res['precision'], min(res['errors'])))\n",
    "    plt.plot(res['errors'])\n",
    "    plt.show()"
   ]
  },
  {
   "cell_type": "markdown",
   "metadata": {},
   "source": [
    "### K-means--"
   ]
  },
  {
   "cell_type": "code",
   "execution_count": 112,
   "metadata": {},
   "outputs": [
    {
     "name": "stdout",
     "output_type": "stream",
     "text": [
      "K-means-- with (k, z, itr_thres): (10, 122, 100)\n",
      "# Iterations: 20\n",
      "CPU times: user 2.01 s, sys: 79.3 ms, total: 2.09 s\n",
      "Wall time: 2.1 s\n"
     ]
    }
   ],
   "source": [
    "%%time\n",
    "# SKIN-5\n",
    "res_skin_5 = k_means_mm(skin_5_arr, y_skin_5, k_skin, int(z_skin*0.05))"
   ]
  },
  {
   "cell_type": "code",
   "execution_count": 113,
   "metadata": {},
   "outputs": [
    {
     "name": "stdout",
     "output_type": "stream",
     "text": [
      "Recall:\t\t0.7738775510204081, \n",
      "Precision:\t0.7770491803278688,\n",
      "Min Objective:\t2.4555528023639304\n"
     ]
    },
    {
     "data": {
      "image/png": "[encoded data removed]",
      "text/plain": [
       "<Figure size 432x288 with 1 Axes>"
      ]
     },
     "metadata": {
      "needs_background": "light"
     },
     "output_type": "display_data"
    }
   ],
   "source": [
    "plot_errors(res_skin_5)"
   ]
  },
  {
   "cell_type": "code",
   "execution_count": 50,
   "metadata": {},
   "outputs": [
    {
     "name": "stdout",
     "output_type": "stream",
     "text": [
      "K-means-- with (k, z, itr_thres): (10, 122, 100)\n",
      "# Iterations: 20\n",
      "CPU times: user 1.96 s, sys: 60.8 ms, total: 2.02 s\n",
      "Wall time: 2.02 s\n"
     ]
    }
   ],
   "source": [
    "%%time\n",
    "# SKIN-10\n",
    "res_skin_10 = k_means_mm(skin_10_arr, y_skin_10, k_skin, int(z_skin*0.05))"
   ]
  },
  {
   "cell_type": "code",
   "execution_count": 51,
   "metadata": {},
   "outputs": [
    {
     "name": "stdout",
     "output_type": "stream",
     "text": [
      "Recall:\t\t0.9379591836734694, \n",
      "Precision:\t0.9418032786885245,\n",
      "Min Objective:\t2.181104438144809\n"
     ]
    },
    {
     "data": {
      "image/png": "[encoded data removed]",
      "text/plain": [
       "<Figure size 432x288 with 1 Axes>"
      ]
     },
     "metadata": {
      "needs_background": "light"
     },
     "output_type": "display_data"
    }
   ],
   "source": [
    "plot_errors(res_skin_10)"
   ]
  },
  {
   "cell_type": "code",
   "execution_count": 53,
   "metadata": {},
   "outputs": [
    {
     "name": "stdout",
     "output_type": "stream",
     "text": [
      "K-means-- with (k, z, itr_thres): (10, 2500, 100)\n",
      "# Iterations: 20\n",
      "CPU times: user 1min 36s, sys: 11.9 s, total: 1min 48s\n",
      "Wall time: 1min 50s\n"
     ]
    }
   ],
   "source": [
    "%%time\n",
    "# SUSY-5\n",
    "res_susy_5 = k_means_mm(susy_5_arr, y_susy_5, k_susy, int(z_susy*0.05))"
   ]
  },
  {
   "cell_type": "code",
   "execution_count": 54,
   "metadata": {},
   "outputs": [
    {
     "name": "stdout",
     "output_type": "stream",
     "text": [
      "Recall:\t\t0.79932, \n",
      "Precision:\t0.79932,\n",
      "Min Objective:\t56.38377141538149\n"
     ]
    },
    {
     "data": {
      "image/png": "[encoded data removed]",
      "text/plain": [
       "<Figure size 432x288 with 1 Axes>"
      ]
     },
     "metadata": {
      "needs_background": "light"
     },
     "output_type": "display_data"
    }
   ],
   "source": [
    "plot_errors(res_susy_5)"
   ]
  },
  {
   "cell_type": "code",
   "execution_count": 55,
   "metadata": {},
   "outputs": [
    {
     "name": "stdout",
     "output_type": "stream",
     "text": [
      "K-means-- with (k, z, itr_thres): (10, 2500, 100)\n",
      "# Iterations: 20\n",
      "CPU times: user 1min 36s, sys: 12.9 s, total: 1min 49s\n",
      "Wall time: 1min 50s\n"
     ]
    }
   ],
   "source": [
    "%%time\n",
    "# SUSY-10\n",
    "res_susy_10 = k_means_mm(susy_10_arr, y_susy_10, k_susy, int(z_susy*0.05))"
   ]
  },
  {
   "cell_type": "code",
   "execution_count": 56,
   "metadata": {},
   "outputs": [
    {
     "name": "stdout",
     "output_type": "stream",
     "text": [
      "Recall:\t\t0.98156, \n",
      "Precision:\t0.98156,\n",
      "Min Objective:\t51.69765728799873\n"
     ]
    },
    {
     "data": {
      "image/png": "[encoded data removed]",
      "text/plain": [
       "<Figure size 432x288 with 1 Axes>"
      ]
     },
     "metadata": {
      "needs_background": "light"
     },
     "output_type": "display_data"
    }
   ],
   "source": [
    "plot_errors(res_susy_10)"
   ]
  },
  {
   "cell_type": "code",
   "execution_count": 97,
   "metadata": {},
   "outputs": [
    {
     "name": "stdout",
     "output_type": "stream",
     "text": [
      "K-means-- with (k, z, itr_thres): (10, 1024, 100)\n",
      "# Iterations: 20\n",
      "CPU times: user 23.7 s, sys: 3.5 s, total: 27.2 s\n",
      "Wall time: 27.3 s\n"
     ]
    }
   ],
   "source": [
    "%%time\n",
    "res_power_5 = k_means_mm(power_5_arr, y_power_5, k_power, int(z_power*0.05))"
   ]
  },
  {
   "cell_type": "code",
   "execution_count": 99,
   "metadata": {},
   "outputs": [
    {
     "name": "stdout",
     "output_type": "stream",
     "text": [
      "Recall:\t\t0.6298067538551629, \n",
      "Precision:\t0.63017578125,\n",
      "Min Objective:\t44.47476519393946\n"
     ]
    },
    {
     "data": {
      "image/png": "[encoded data removed]",
      "text/plain": [
       "<Figure size 432x288 with 1 Axes>"
      ]
     },
     "metadata": {
      "needs_background": "light"
     },
     "output_type": "display_data"
    }
   ],
   "source": [
    "plot_errors(res_power_5)"
   ]
  },
  {
   "cell_type": "code",
   "execution_count": 98,
   "metadata": {},
   "outputs": [
    {
     "name": "stdout",
     "output_type": "stream",
     "text": [
      "K-means-- with (k, z, itr_thres): (10, 1024, 100)\n",
      "# Iterations: 20\n",
      "CPU times: user 23.3 s, sys: 3.49 s, total: 26.8 s\n",
      "Wall time: 27 s\n"
     ]
    }
   ],
   "source": [
    "%%time\n",
    "res_power_10 = k_means_mm(power_10_arr, y_power_10, k_power, int(z_power*0.05))"
   ]
  },
  {
   "cell_type": "code",
   "execution_count": 100,
   "metadata": {},
   "outputs": [
    {
     "name": "stdout",
     "output_type": "stream",
     "text": [
      "Recall:\t\t0.9647667382393129, \n",
      "Precision:\t0.96533203125,\n",
      "Min Objective:\t57.01193054016632\n"
     ]
    },
    {
     "data": {
      "image/png": "[encoded data removed]",
      "text/plain": [
       "<Figure size 432x288 with 1 Axes>"
      ]
     },
     "metadata": {
      "needs_background": "light"
     },
     "output_type": "display_data"
    }
   ],
   "source": [
    "plot_errors(res_power_10)"
   ]
  },
  {
   "cell_type": "code",
   "execution_count": 130,
   "metadata": {},
   "outputs": [
    {
     "name": "stdout",
     "output_type": "stream",
     "text": [
      "K-means-- with (k, z, itr_thres): (3, 2287, 100)\n",
      "# Iterations: 20\n",
      "CPU times: user 48.9 s, sys: 14.6 s, total: 1min 3s\n",
      "Wall time: 1min 3s\n"
     ]
    }
   ],
   "source": [
    "%%time\n",
    "# KDD\n",
    "res_kdd = k_means_mm(kdd_arr, y_kdd, k_kdd, int(z_kdd*0.05))"
   ]
  },
  {
   "cell_type": "code",
   "execution_count": 131,
   "metadata": {},
   "outputs": [
    {
     "name": "stdout",
     "output_type": "stream",
     "text": [
      "Recall:\t\t0.0035543216908416045, \n",
      "Precision:\t0.37708788806296456,\n",
      "Min Objective:\t155.69283490356918\n"
     ]
    },
    {
     "data": {
      "image/png": "[encoded data removed]",
      "text/plain": [
       "<Figure size 432x288 with 1 Axes>"
      ]
     },
     "metadata": {
      "needs_background": "light"
     },
     "output_type": "display_data"
    }
   ],
   "source": [
    "plot_errors(res_kdd)"
   ]
  },
  {
   "cell_type": "code",
   "execution_count": 136,
   "metadata": {},
   "outputs": [
    {
     "data": {
      "image/png": "[encoded data removed]",
      "text/plain": [
       "<Figure size 432x288 with 1 Axes>"
      ]
     },
     "metadata": {
      "needs_background": "light"
     },
     "output_type": "display_data"
    }
   ],
   "source": [
    "plt.plot(res_kdd['errors'], label=\"KDD\")\n",
    "plt.plot(res_power_10['errors'], label=\"POWER-10\")\n",
    "plt.plot(res_power_5['errors'], label=\"POWER-5\")\n",
    "plt.plot(res_skin_10['errors'], label=\"SKIN-10\")\n",
    "plt.plot(res_skin_5['errors'], label=\"SKIN-5\")\n",
    "plt.plot(res_susy_10['errors'], label=\"SUSY-10\")\n",
    "plt.plot(res_susy_5['errors'], label=\"SUSY-5\")\n",
    "plt.legend(loc=\"best\")\n",
    "plt.title(\"L2 norms on k-means--\")\n",
    "plt.show()"
   ]
  },
  {
   "cell_type": "markdown",
   "metadata": {},
   "source": [
    "## k-means++ (Original)"
   ]
  },
  {
   "cell_type": "code",
   "execution_count": 114,
   "metadata": {},
   "outputs": [
    {
     "name": "stdout",
     "output_type": "stream",
     "text": [
      "X: (247507, 3), k: 10\n",
      "K-means with k: 10\n",
      "# Iterations: 12\n",
      "CPU times: user 594 ms, sys: 74.2 ms, total: 669 ms\n",
      "Wall time: 671 ms\n"
     ]
    }
   ],
   "source": [
    "%%time\n",
    "# SKIN-5\n",
    "cents_skin_5, errs_skin_5 = k_means_pp(skin_5_arr, k_skin)"
   ]
  },
  {
   "cell_type": "code",
   "execution_count": 144,
   "metadata": {},
   "outputs": [
    {
     "name": "stdout",
     "output_type": "stream",
     "text": [
      "2.3034294153590125\n"
     ]
    }
   ],
   "source": [
    "print(min(errs_skin_5))"
   ]
  },
  {
   "cell_type": "code",
   "execution_count": 116,
   "metadata": {},
   "outputs": [
    {
     "name": "stdout",
     "output_type": "stream",
     "text": [
      "X: (247507, 3), k: 10\n",
      "K-means with k: 10\n",
      "# Iterations: 10\n",
      "CPU times: user 497 ms, sys: 64 ms, total: 561 ms\n",
      "Wall time: 560 ms\n"
     ]
    }
   ],
   "source": [
    "%%time\n",
    "# SKIN-10\n",
    "cents_skin_10, errs_skin_10 = k_means_pp(skin_10_arr, k_skin)"
   ]
  },
  {
   "cell_type": "code",
   "execution_count": 143,
   "metadata": {},
   "outputs": [
    {
     "name": "stdout",
     "output_type": "stream",
     "text": [
      "7.110514299207601\n"
     ]
    }
   ],
   "source": [
    "print(min(errs_skin_10))"
   ]
  },
  {
   "cell_type": "code",
   "execution_count": 118,
   "metadata": {},
   "outputs": [
    {
     "name": "stdout",
     "output_type": "stream",
     "text": [
      "X: (5050000, 18), k: 10\n",
      "K-means with k: 10\n",
      "# Iterations: 101\n",
      "CPU times: user 3min 31s, sys: 36.5 s, total: 4min 7s\n",
      "Wall time: 4min 9s\n"
     ]
    }
   ],
   "source": [
    "%%time\n",
    "# SUSY-5\n",
    "cents_susy_5, errs_susy_5 = k_means_pp(susy_5_arr, k_susy)"
   ]
  },
  {
   "cell_type": "code",
   "execution_count": 142,
   "metadata": {},
   "outputs": [
    {
     "name": "stdout",
     "output_type": "stream",
     "text": [
      "52.9273606274847\n"
     ]
    }
   ],
   "source": [
    "print(min(errs_susy_5))"
   ]
  },
  {
   "cell_type": "code",
   "execution_count": 120,
   "metadata": {},
   "outputs": [
    {
     "name": "stdout",
     "output_type": "stream",
     "text": [
      "X: (5050000, 18), k: 10\n",
      "K-means with k: 10\n",
      "# Iterations: 101\n",
      "CPU times: user 3min 21s, sys: 37.9 s, total: 3min 59s\n",
      "Wall time: 4min 1s\n"
     ]
    }
   ],
   "source": [
    "%%time\n",
    "# SUSY-10\n",
    "cents_susy_10, errs_susy_10 = k_means_pp(susy_10_arr, k_susy)"
   ]
  },
  {
   "cell_type": "code",
   "execution_count": 141,
   "metadata": {},
   "outputs": [
    {
     "name": "stdout",
     "output_type": "stream",
     "text": [
      "60.31559614583672\n"
     ]
    }
   ],
   "source": [
    "print(min(errs_susy_10))"
   ]
  },
  {
   "cell_type": "code",
   "execution_count": 122,
   "metadata": {},
   "outputs": [
    {
     "name": "stdout",
     "output_type": "stream",
     "text": [
      "X: (2069772, 7), k: 10\n",
      "K-means with k: 10\n",
      "# Iterations: 59\n",
      "CPU times: user 24.7 s, sys: 5.2 s, total: 29.9 s\n",
      "Wall time: 30 s\n"
     ]
    }
   ],
   "source": [
    "%%time\n",
    "# POWER-5\n",
    "cents_power_5, errs_power_5 = k_means_pp(power_5_arr, k_power)"
   ]
  },
  {
   "cell_type": "code",
   "execution_count": 140,
   "metadata": {},
   "outputs": [
    {
     "name": "stdout",
     "output_type": "stream",
     "text": [
      "57.948004207015494\n"
     ]
    }
   ],
   "source": [
    "print(min(errs_power_5))"
   ]
  },
  {
   "cell_type": "code",
   "execution_count": 124,
   "metadata": {},
   "outputs": [
    {
     "name": "stdout",
     "output_type": "stream",
     "text": [
      "X: (2069772, 7), k: 10\n",
      "K-means with k: 10\n",
      "# Iterations: 101\n",
      "CPU times: user 41.5 s, sys: 8.99 s, total: 50.5 s\n",
      "Wall time: 50.7 s\n"
     ]
    }
   ],
   "source": [
    "%%time\n",
    "# POWER-10\n",
    "cents_power_10, errs_power_10 = k_means_pp(power_10_arr, k_power)"
   ]
  },
  {
   "cell_type": "code",
   "execution_count": 139,
   "metadata": {},
   "outputs": [
    {
     "name": "stdout",
     "output_type": "stream",
     "text": [
      "196.0934232046435\n"
     ]
    }
   ],
   "source": [
    "print(min(errs_power_10))"
   ]
  },
  {
   "cell_type": "code",
   "execution_count": 128,
   "metadata": {},
   "outputs": [
    {
     "name": "stdout",
     "output_type": "stream",
     "text": [
      "X: (4898431, 34), k: 3\n",
      "K-means with k: 3\n",
      "# Iterations: 2\n",
      "CPU times: user 6.83 s, sys: 3.85 s, total: 10.7 s\n",
      "Wall time: 10.7 s\n"
     ]
    }
   ],
   "source": [
    "%%time\n",
    "# KDD\n",
    "cents_kdd, errs_kdd = k_means_pp(kdd_arr, k_kdd)"
   ]
  },
  {
   "cell_type": "code",
   "execution_count": 138,
   "metadata": {},
   "outputs": [
    {
     "name": "stdout",
     "output_type": "stream",
     "text": [
      "146.08952054289136\n"
     ]
    }
   ],
   "source": [
    "print(min(errs_kdd))"
   ]
  },
  {
   "cell_type": "code",
   "execution_count": 137,
   "metadata": {},
   "outputs": [
    {
     "data": {
      "image/png": "[encoded data removed]",
      "text/plain": [
       "<Figure size 432x288 with 1 Axes>"
      ]
     },
     "metadata": {
      "needs_background": "light"
     },
     "output_type": "display_data"
    }
   ],
   "source": [
    "plt.plot(errs_kdd, label=\"KDD\")\n",
    "plt.plot(errs_power_10, label=\"POWER-10\")\n",
    "plt.plot(errs_power_5, label=\"POWER-5\")\n",
    "plt.plot(errs_skin_10, label=\"SKIN-10\")\n",
    "plt.plot(errs_skin_5, label=\"SKIN-5\")\n",
    "plt.plot(errs_susy_10, label=\"SUSY-10\")\n",
    "plt.plot(errs_susy_5, label=\"SUSY-5\")\n",
    "plt.legend(loc=\"best\")\n",
    "plt.title(\"L2 norms on k-means++ (original)\")\n",
    "plt.show()"
   ]
  },
  {
   "cell_type": "markdown",
   "metadata": {},
   "source": [
    "## NK-means"
   ]
  },
  {
   "cell_type": "code",
   "execution_count": null,
   "metadata": {},
   "outputs": [],
   "source": [
    "# SKIN-5\n",
    "skin_5_nkmeans, skin_5_precision, skin_5_recall = nk_means(skin_5_arr, y_skin_5, k_skin, z_skin, k_means_pp)"
   ]
  }
 ],
 "metadata": {
  "kernelspec": {
   "display_name": "Python 3",
   "language": "python",
   "name": "python3"
  },
  "language_info": {
   "codemirror_mode": {
    "name": "ipython",
    "version": 3
   },
   "file_extension": ".py",
   "mimetype": "text/x-python",
   "name": "python",
   "nbconvert_exporter": "python",
   "pygments_lexer": "ipython3",
   "version": "3.7.3"
  }
 },
 "nbformat": 4,
 "nbformat_minor": 4
}
